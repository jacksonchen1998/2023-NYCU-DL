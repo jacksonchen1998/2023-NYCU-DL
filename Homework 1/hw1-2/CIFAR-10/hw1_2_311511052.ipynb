{
 "cells": [
  {
   "attachments": {},
   "cell_type": "markdown",
   "metadata": {},
   "source": [
    "# 2 Convolutional Neural Network"
   ]
  },
  {
   "attachments": {},
   "cell_type": "markdown",
   "metadata": {},
   "source": [
    "## 2-1\n",
    "<style>\n",
    "    .red {\n",
    "        color: red;\n",
    "    }\n",
    "    .blue {\n",
    "        color: skyblue;\n",
    "    }\n",
    "</style>\n",
    "\n",
    "Please implement a CNN for image recognition by using **CIFAR-10**, then **plot** the <span class=\"blue\">learning curve</span> and the <span class=\"blue\">accuracy rate</span> of training and test data."
   ]
  },
  {
   "attachments": {},
   "cell_type": "markdown",
   "metadata": {},
   "source": [
    "## 2-2\n",
    "\n",
    "In order to deal with a real-world problem, we may stack some additional layers in the Deep Neural Network which results in the improved accuracy and performance. \n",
    "\n",
    "But it has been found that there is a maximum threshold for depth with the traditional convolutional neural network model. \n",
    "\n",
    "The problem of training a very deep network has been alleviated with the introduction of **ResNet** or residual network."
   ]
  },
  {
   "attachments": {},
   "cell_type": "markdown",
   "metadata": {},
   "source": [
    "<style>\n",
    "    .red {\n",
    "        color: red;\n",
    "    }\n",
    "    .blue {\n",
    "        color: skyblue;\n",
    "    }\n",
    "</style>\n",
    "\n",
    "(a) Construct a **ResNet** with residual blocks for image recognition and **plot** the <span class=\"blue\">learning curve, accuracy rate</span>, \n",
    "\n",
    "try to stack more blocks as you can (ResNet-18 is recommended), you can refer to the <span class=\"blue\">paper</span> for implementation."
   ]
  },
  {
   "attachments": {},
   "cell_type": "markdown",
   "metadata": {},
   "source": [
    "(b) Remove the identity mapping and repeat (a), then make some discussion on the results of (a) and (b). Please **describe** what you found."
   ]
  }
 ],
 "metadata": {
  "language_info": {
   "name": "python"
  },
  "orig_nbformat": 4
 },
 "nbformat": 4,
 "nbformat_minor": 2
}
