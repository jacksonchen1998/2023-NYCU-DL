{
 "cells": [
  {
   "cell_type": "code",
   "execution_count": null,
   "metadata": {},
   "outputs": [],
   "source": [
    "# Example code for reading the data and the initial weights and biases.\n",
    "# Note: This is just an example of how to read these files, you can modify the code in your own implementation.\n",
    "\n",
    "import numpy as np\n",
    "import random\n",
    "\n",
    "train_x, train_y = np.load('train_x.npy'), np.load('train_y.npy')\n",
    "test_x, test_y = np.load('test_x.npy'), np.load('test_y.npy')\n",
    "\n",
    "print('shape of data:')\n",
    "print(train_x.shape)\n",
    "print(train_y.shape)\n",
    "print(test_x.shape)\n",
    "print(test_y.shape)\n",
    "\n",
    "\n",
    "checkpoint = np.load('weights.npy', allow_pickle=True).item()\n",
    "init_weights = checkpoint['w']\n",
    "init_biases = checkpoint['b']\n",
    "\n",
    "print('shape of weights:')\n",
    "for w in init_weights:\n",
    "    print(w.shape)\n",
    "    \n",
    "\n",
    "print()\n",
    "\n",
    "print('shape of biases:')\n",
    "for b in init_biases:\n",
    "    print(b.shape)"
   ]
  }
 ],
 "metadata": {
  "kernelspec": {
   "display_name": "base",
   "language": "python",
   "name": "python3"
  },
  "language_info": {
   "name": "python",
   "version": "3.9.12"
  },
  "orig_nbformat": 4,
  "vscode": {
   "interpreter": {
    "hash": "77efda19133223beae4d8202f64c0ed7ef77e02bd33099328534a5c00204ca3d"
   }
  }
 },
 "nbformat": 4,
 "nbformat_minor": 2
}
